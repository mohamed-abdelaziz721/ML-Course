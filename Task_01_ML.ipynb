{
 "cells": [
  {
   "cell_type": "code",
   "execution_count": 1,
   "metadata": {},
   "outputs": [],
   "source": [
    "import numpy as np \n",
    "import pandas as pd \n",
    "import matplotlib\n",
    "import matplotlib.pyplot as plt\n",
    "import seaborn as sns\n",
    "import os\n",
    "from sklearn.linear_model import LogisticRegression\n",
    "import idx2numpy\n",
    "from sklearn.metrics import confusion_matrix\n",
    "from sklearn.metrics import classification_report"
   ]
  },
  {
   "cell_type": "code",
   "execution_count": 2,
   "metadata": {},
   "outputs": [
    {
     "name": "stdout",
     "output_type": "stream",
     "text": [
      "60000\n",
      "28\n",
      "28\n",
      "(60000, 784)\n"
     ]
    }
   ],
   "source": [
    "x_train = idx2numpy.convert_from_file(r\"C:\\Users\\Mohamed Abdelaziz\\Desktop\\ML_Task_1\\task1_data\\data\\train-images.idx3-ubyte\")\n",
    "x_test  = idx2numpy.convert_from_file(r\"C:\\Users\\Mohamed Abdelaziz\\Desktop\\ML_Task_1\\task1_data\\data\\t10k-images.idx3-ubyte\")\n",
    "\n",
    "y_train = pd.DataFrame(idx2numpy.convert_from_file(r\"C:\\Users\\Mohamed Abdelaziz\\Desktop\\ML_Task_1\\task1_data\\data\\train-labels.idx1-ubyte\"),columns = [\"label\"])\n",
    "y_test  = pd.DataFrame(idx2numpy.convert_from_file(r\"C:\\Users\\Mohamed Abdelaziz\\Desktop\\ML_Task_1\\task1_data\\data\\t10k-labels.idx1-ubyte\"),columns = [\"labels\"])\n",
    "\n",
    "print(x_train.shape[0])\n",
    "print(x_train.shape[1])\n",
    "print(x_train.shape[2])\n",
    "\n",
    "x_train = pd.DataFrame(x_train.reshape(x_train.shape[0],x_train.shape[1]*x_train.shape[2]))\n",
    "x_test = pd.DataFrame(x_test.reshape(x_test.shape[0],x_test.shape[1]*x_test.shape[2]))\n",
    "x_train_norm = x_train / 255.0\n",
    "\n",
    "data = {\n",
    "    \"x_train\" : x_train,\n",
    "    \"y_train\" : y_train,\n",
    "    \"x_test\" : x_test,\n",
    "    \"y_test\" : y_test\n",
    "}\n",
    "print(x_train.shape)\n"
   ]
  },
  {
   "cell_type": "code",
   "execution_count": 3,
   "metadata": {},
   "outputs": [
    {
     "data": {
      "image/png": "[encoded data removed]",
      "text/plain": [
       "<Figure size 720x216 with 5 Axes>"
      ]
     },
     "metadata": {
      "needs_background": "light"
     },
     "output_type": "display_data"
    }
   ],
   "source": [
    "\n",
    "examples = x_train[50:100].to_numpy()\n",
    "_, axes = plt.subplots(nrows=1, ncols=5, figsize=(10, 3))\n",
    "for ax, image in zip(axes, examples):\n",
    "    ax.set_axis_off()\n",
    "    image = image.reshape(28, 28)\n",
    "    ax.imshow(image, cmap=plt.cm.gray_r, interpolation='nearest')\n",
    "plt.show()"
   ]
  },
  {
   "cell_type": "code",
   "execution_count": 4,
   "metadata": {},
   "outputs": [],
   "source": [
    "def Binary_Classification(data, target_num):\n",
    "    y_train = (data[\"y_train\"] == target_num )\n",
    "    y_test = (data[\"y_test\"] == target_num)\n",
    "    data = {\n",
    "        'x_train' : data[\"x_train\"],\n",
    "        'y_train' : y_train,\n",
    "        'x_test'  : data['x_test'],\n",
    "        'y_test' : y_test\n",
    "    }\n",
    "\n",
    "    return data \n"
   ]
  },
  {
   "cell_type": "code",
   "execution_count": 5,
   "metadata": {},
   "outputs": [
    {
     "name": "stderr",
     "output_type": "stream",
     "text": [
      "C:\\Users\\Mohamed Abdelaziz\\AppData\\Local\\Programs\\Python\\Python39\\lib\\site-packages\\sklearn\\utils\\validation.py:63: DataConversionWarning: A column-vector y was passed when a 1d array was expected. Please change the shape of y to (n_samples, ), for example using ravel().\n",
      "  return f(*args, **kwargs)\n",
      "C:\\Users\\Mohamed Abdelaziz\\AppData\\Local\\Programs\\Python\\Python39\\lib\\site-packages\\sklearn\\linear_model\\_logistic.py:763: ConvergenceWarning: lbfgs failed to converge (status=1):\n",
      "STOP: TOTAL NO. of ITERATIONS REACHED LIMIT.\n",
      "\n",
      "Increase the number of iterations (max_iter) or scale the data as shown in:\n",
      "    https://scikit-learn.org/stable/modules/preprocessing.html\n",
      "Please also refer to the documentation for alternative solver options:\n",
      "    https://scikit-learn.org/stable/modules/linear_model.html#logistic-regression\n",
      "  n_iter_i = _check_optimize_result(\n"
     ]
    },
    {
     "name": "stdout",
     "output_type": "stream",
     "text": [
      "train accuracy is =  label    0.993733\n",
      "dtype: float64\n",
      "test accuracy is =  labels    0.9933\n",
      "dtype: float64\n"
     ]
    }
   ],
   "source": [
    "## HERE WE CHOOSE THE DIGIT TO BE CLASSIFIED\n",
    "new_data = Binary_Classification(data, 1)\n",
    "\n",
    "## MODEL FIT\n",
    "model = LogisticRegression(max_iter = 100 )\n",
    "model.fit(new_data[\"x_train\"],new_data[\"y_train\"])\n",
    "train_predictions = model.predict(new_data[\"x_train\"]).reshape(-1,1)\n",
    "test_predictions = model.predict(new_data[\"x_test\"]).reshape(-1,1)\n",
    "\n",
    "predictions = {\n",
    "    'train_predictions':train_predictions,\n",
    "    'test_predictions':test_predictions\n",
    "}\n",
    "\n",
    "print(\"train accuracy is = \", np.mean(new_data[\"y_train\"] == train_predictions))\n",
    "print(\"test accuracy is = \", np.mean(new_data[\"y_test\"] == test_predictions))\n",
    "\n",
    "y_test = np.array(new_data[\"y_test\"])\n"
   ]
  },
  {
   "cell_type": "code",
   "execution_count": 6,
   "metadata": {},
   "outputs": [
    {
     "data": {
      "image/png": "[encoded data removed]",
      "text/plain": [
       "<Figure size 720x216 with 10 Axes>"
      ]
     },
     "metadata": {
      "needs_background": "light"
     },
     "output_type": "display_data"
    }
   ],
   "source": [
    "## PLOT TESTING DATA\n",
    "\n",
    "x_test = new_data[\"x_test\"].to_numpy()\n",
    "predictions = predictions[\"test_predictions\"]\n",
    "_, axes = plt.subplots(nrows=1, ncols=10, figsize=(10, 3))\n",
    "for ax, image , prediction in zip(axes, x_test , predictions):\n",
    "    ax.set_axis_off()\n",
    "    image = image.reshape(28, 28)\n",
    "    ax.imshow(image, cmap=plt.cm.gray_r, interpolation='nearest')\n",
    "    ax.set_title(f\"{prediction}\")\n",
    "plt.show()"
   ]
  },
  {
   "cell_type": "code",
   "execution_count": 7,
   "metadata": {},
   "outputs": [
    {
     "name": "stdout",
     "output_type": "stream",
     "text": [
      "tp =8825  fn = 27  fp = 40  tn=1108\n",
      "precision is : 0.9954878736604625 , recall is = 0.9969498418436512 , f1score = 0.9962183213862391\n"
     ]
    },
    {
     "data": {
      "image/png": "[encoded data removed]",
      "text/plain": [
       "<Figure size 720x504 with 2 Axes>"
      ]
     },
     "metadata": {
      "needs_background": "light"
     },
     "output_type": "display_data"
    }
   ],
   "source": [
    "# predicted values\n",
    "# predicted = predictions[\"test_predictions\"].to_numpy()\n",
    "predicted=pd.DataFrame(test_predictions, columns=['labels']) \n",
    "# print (predicted)\n",
    "\n",
    "actual = new_data[\"y_test\"]\n",
    "\n",
    "# confusion matrix\n",
    "matrix = confusion_matrix(predicted,actual)\n",
    "tp, fn, fp, tn = matrix[0][0], matrix[0][1],matrix[1][0], matrix[1][1]\n",
    "print(f\"tp ={tp}  fn = {fn}  fp = {fp}  tn={tn}\")\n",
    "precision =  tp/(tp+fp)\n",
    "recall = tp/(tp+fn)\n",
    "f1score = 2/((1/recall)+(1/precision))\n",
    "print(f\"precision is : {precision} , recall is = {recall } , f1score = {f1score}\")\n",
    "df_cm = pd.DataFrame(matrix, index = [i for i in range(matrix.shape[1])],\n",
    "                          columns =[i for i in range(matrix.shape[0])] )\n",
    "plt.figure(figsize = (10,7))\n",
    "sns.heatmap(df_cm, annot=True)\n",
    "            \n",
    "plt.show()\n",
    "    "
   ]
  },
  {
   "cell_type": "code",
   "execution_count": 8,
   "metadata": {},
   "outputs": [],
   "source": [
    "## MULTICLASS CLASSIFICATION\n",
    "\n",
    "x_train = idx2numpy.convert_from_file(r\"C:\\Users\\Mohamed Abdelaziz\\Desktop\\ML_Task_1\\task1_data\\data\\train-images.idx3-ubyte\")\n",
    "x_test  = idx2numpy.convert_from_file(r\"C:\\Users\\Mohamed Abdelaziz\\Desktop\\ML_Task_1\\task1_data\\data\\t10k-images.idx3-ubyte\")\n",
    "\n",
    "y_train = pd.DataFrame(idx2numpy.convert_from_file(r\"C:\\Users\\Mohamed Abdelaziz\\Desktop\\ML_Task_1\\task1_data\\data\\train-labels.idx1-ubyte\"),columns = [\"label\"])\n",
    "y_test  = pd.DataFrame(idx2numpy.convert_from_file(r\"C:\\Users\\Mohamed Abdelaziz\\Desktop\\ML_Task_1\\task1_data\\data\\t10k-labels.idx1-ubyte\"),columns = [\"labels\"])\n",
    "\n",
    "\n",
    "x_train = pd.DataFrame(x_train.reshape(x_train.shape[0],x_train.shape[1]*x_train.shape[2]))\n",
    "x_test = pd.DataFrame(x_test.reshape(x_test.shape[0],x_test.shape[1]*x_test.shape[2]))\n",
    "x_train_norm = x_train / 255.0\n",
    "\n",
    "data = {\n",
    "    \"x_train\" : x_train_norm,\n",
    "    \"y_train\" : y_train,\n",
    "    \"x_test\" : x_test,\n",
    "    \"y_test\" : y_test\n",
    "}\n",
    "\n",
    "\n"
   ]
  },
  {
   "cell_type": "code",
   "execution_count": 9,
   "metadata": {},
   "outputs": [],
   "source": [
    "\n",
    "# x_train_norm = data[\"x_train\"] / 255.0\n",
    "# data = {\n",
    "#     \"x_train\" : x_train_norm,\n",
    "#     \"y_train\" : data[\"y_train\"],\n",
    "#     \"x_test\"  : data[\"x_test\"],\n",
    "#     \"y_test\"  : data[\"y_test\"]\n",
    "# }\n",
    "\n"
   ]
  },
  {
   "cell_type": "code",
   "execution_count": 10,
   "metadata": {},
   "outputs": [
    {
     "name": "stderr",
     "output_type": "stream",
     "text": [
      "C:\\Users\\Mohamed Abdelaziz\\AppData\\Local\\Programs\\Python\\Python39\\lib\\site-packages\\sklearn\\utils\\validation.py:63: DataConversionWarning: A column-vector y was passed when a 1d array was expected. Please change the shape of y to (n_samples, ), for example using ravel().\n",
      "  return f(*args, **kwargs)\n",
      "C:\\Users\\Mohamed Abdelaziz\\AppData\\Local\\Programs\\Python\\Python39\\lib\\site-packages\\sklearn\\linear_model\\_logistic.py:763: ConvergenceWarning: lbfgs failed to converge (status=1):\n",
      "STOP: TOTAL NO. of ITERATIONS REACHED LIMIT.\n",
      "\n",
      "Increase the number of iterations (max_iter) or scale the data as shown in:\n",
      "    https://scikit-learn.org/stable/modules/preprocessing.html\n",
      "Please also refer to the documentation for alternative solver options:\n",
      "    https://scikit-learn.org/stable/modules/linear_model.html#logistic-regression\n",
      "  n_iter_i = _check_optimize_result(\n"
     ]
    },
    {
     "name": "stdout",
     "output_type": "stream",
     "text": [
      "train accuracy is =  label    0.935067\n",
      "dtype: float64\n",
      "test accuracy is =  labels    0.8699\n",
      "dtype: float64\n"
     ]
    }
   ],
   "source": [
    "model = LogisticRegression(max_iter = 100 )\n",
    "model.fit(data[\"x_train\"],data[\"y_train\"])\n",
    "train_predictions = model.predict(data[\"x_train\"]).reshape(-1,1)\n",
    "test_predictions  = model.predict(data[\"x_test\"]).reshape(-1,1)\n",
    "predictions = {\n",
    "    \"train_predictions\" : train_predictions,\n",
    "    \"test_predictions\" : test_predictions\n",
    "}\n",
    "print(\"train accuracy is = \", np.mean(data[\"y_train\"] == train_predictions))\n",
    "print(\"test accuracy is = \", np.mean(data[\"y_test\"] == test_predictions))\n"
   ]
  },
  {
   "cell_type": "code",
   "execution_count": 11,
   "metadata": {},
   "outputs": [
    {
     "name": "stdout",
     "output_type": "stream",
     "text": [
      "[[ 968    0    0    2    0    0    4    1    5    0]\n",
      " [   0 1025    2    4    0    0    3    2   99    0]\n",
      " [  11    4  872   22    5    0   16    3   95    4]\n",
      " [   5    0    9  916    1    1    3    7   62    6]\n",
      " [   3    0    5    3  874    0   12    1   35   49]\n",
      " [  17    1    1   81    7  410   18    3  338   16]\n",
      " [  13    2    3    3    5    1  918    1   12    0]\n",
      " [   4    4   20   17    8    0    0  839   28  108]\n",
      " [   6    1    2   12    5    1    5    1  939    2]\n",
      " [  10    1    0    8   12    0    0    0   40  938]]\n"
     ]
    }
   ],
   "source": [
    "from sklearn import metrics\n",
    "predicted=pd.DataFrame(test_predictions) \n",
    "cm = metrics.confusion_matrix(data[\"y_test\"], predicted)\n",
    "print(cm)"
   ]
  },
  {
   "cell_type": "code",
   "execution_count": 12,
   "metadata": {
    "scrolled": true
   },
   "outputs": [
    {
     "data": {
      "image/png": "[encoded data removed]",
      "text/plain": [
       "<Figure size 720x216 with 10 Axes>"
      ]
     },
     "metadata": {
      "needs_background": "light"
     },
     "output_type": "display_data"
    }
   ],
   "source": [
    "x_test = data[\"x_test\"].to_numpy()\n",
    "predictions = predictions[\"test_predictions\"]\n",
    "# predictions = pd.DataFrame(test_predictions, columns=['labels']) \n",
    "_, axes = plt.subplots(nrows=1, ncols=10, figsize=(10, 3))\n",
    "for ax, image , prediction in zip(axes, x_test , predictions):\n",
    "    ax.set_axis_off()\n",
    "    image = image.reshape(28, 28)\n",
    "    ax.imshow(image, cmap=plt.cm.gray_r, interpolation='nearest')\n",
    "    ax.set_title(f\"{prediction}\")\n",
    "plt.show()"
   ]
  },
  {
   "cell_type": "code",
   "execution_count": 13,
   "metadata": {},
   "outputs": [
    {
     "name": "stdout",
     "output_type": "stream",
     "text": [
      "tp =968  fn = 0  fp = 0  tn=1025\n",
      "precision is : 1.0 , recall is = 1.0 , f1score = 1.0\n"
     ]
    },
    {
     "data": {
      "image/png": "[encoded data removed]",
      "text/plain": [
       "<Figure size 720x504 with 2 Axes>"
      ]
     },
     "metadata": {
      "needs_background": "light"
     },
     "output_type": "display_data"
    }
   ],
   "source": [
    "# predicted values\n",
    "# predicted = predictions[\"test_predictions\"].to_numpy()\n",
    "# predictions = predictions[\"test_predictions\"]\n",
    "predicted=pd.DataFrame(test_predictions) \n",
    "# print (predicted)\n",
    "\n",
    "actual = data[\"y_test\"]\n",
    "\n",
    "# confusion matrix\n",
    "matrix = confusion_matrix(predicted,actual)\n",
    "tp, fn, fp, tn = matrix[0][0], matrix[0][1],matrix[1][0], matrix[1][1]\n",
    "print(f\"tp ={tp}  fn = {fn}  fp = {fp}  tn={tn}\")\n",
    "precision =  tp/(tp+fp)\n",
    "recall = tp/(tp+fn)\n",
    "f1score = 2/((1/recall)+(1/precision))\n",
    "print(f\"precision is : {precision} , recall is = {recall } , f1score = {f1score}\")\n",
    "df_cm = pd.DataFrame(matrix, index = [i for i in range(matrix.shape[1])],\n",
    "                          columns =[i for i in range(matrix.shape[0])] )\n",
    "plt.figure(figsize = (10,7))\n",
    "sns.heatmap(df_cm, annot=True)\n",
    "            \n",
    "plt.show()"
   ]
  },
  {
   "cell_type": "code",
   "execution_count": null,
   "metadata": {},
   "outputs": [],
   "source": []
  },
  {
   "cell_type": "code",
   "execution_count": null,
   "metadata": {},
   "outputs": [],
   "source": []
  }
 ],
 "metadata": {
  "kernelspec": {
   "display_name": "Python 3",
   "language": "python",
   "name": "python3"
  },
  "language_info": {
   "codemirror_mode": {
    "name": "ipython",
    "version": 3
   },
   "file_extension": ".py",
   "mimetype": "text/x-python",
   "name": "python",
   "nbconvert_exporter": "python",
   "pygments_lexer": "ipython3",
   "version": "3.9.1"
  }
 },
 "nbformat": 4,
 "nbformat_minor": 4
}
