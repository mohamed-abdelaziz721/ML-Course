{
  "nbformat": 4,
  "nbformat_minor": 0,
  "metadata": {
    "colab": {
      "name": "SVM.ipynb",
      "provenance": []
    },
    "kernelspec": {
      "name": "python3",
      "display_name": "Python 3"
    },
    "language_info": {
      "name": "python"
    }
  },
  "cells": [
    {
      "cell_type": "code",
      "source": [
        "import numpy as np\n",
        "import pandas as pd\n",
        "import matplotlib.pyplot as plt\n",
        "from collections import defaultdict\n",
        "from sklearn.datasets import load_iris\n",
        "from sklearn.svm import SVC\n",
        "from sklearn.model_selection import train_test_split, cross_val_score, GridSearchCV\n",
        "from sklearn.preprocessing import StandardScaler, MinMaxScaler\n",
        "from sklearn.feature_selection import mutual_info_classif, SelectKBest\n",
        "from sklearn.metrics import accuracy_score, plot_confusion_matrix"
      ],
      "metadata": {
        "id": "S-78wCxd3o3M"
      },
      "execution_count": 196,
      "outputs": []
    },
    {
      "cell_type": "code",
      "source": [
        "original_df = pd.read_csv('data.txt', sep=' ',header=None)\n",
        "original_df.head()"
      ],
      "metadata": {
        "colab": {
          "base_uri": "https://localhost:8080/",
          "height": 236
        },
        "id": "RFu5pTX43uYI",
        "outputId": "6728bea3-f592-43db-d34f-bb5139f809de"
      },
      "execution_count": 185,
      "outputs": [
        {
          "output_type": "execute_result",
          "data": {
            "text/plain": [
              "   0   1   2   3   4   5   6   7   8   9   ...  15  16  17  18  19  20  21  \\\n",
              "0   1   6   4  12   5   5   3   4   1  67  ...   0   0   1   0   0   1   0   \n",
              "1   2  48   2  60   1   3   2   2   1  22  ...   0   0   1   0   0   1   0   \n",
              "2   4  12   4  21   1   4   3   3   1  49  ...   0   0   1   0   0   1   0   \n",
              "3   1  42   2  79   1   4   3   4   2  45  ...   0   0   0   0   0   0   0   \n",
              "4   1  24   3  49   1   3   3   4   4  53  ...   1   0   1   0   0   0   0   \n",
              "\n",
              "   22  23  24  \n",
              "0   0   1   1  \n",
              "1   0   1   2  \n",
              "2   1   0   1  \n",
              "3   0   1   1  \n",
              "4   0   1   2  \n",
              "\n",
              "[5 rows x 25 columns]"
            ],
            "text/html": [
              "<div>\n",
              "<style scoped>\n",
              "    .dataframe tbody tr th:only-of-type {\n",
              "        vertical-align: middle;\n",
              "    }\n",
              "\n",
              "    .dataframe tbody tr th {\n",
              "        vertical-align: top;\n",
              "    }\n",
              "\n",
              "    .dataframe thead th {\n",
              "        text-align: right;\n",
              "    }\n",
              "</style>\n",
              "<table border=\"1\" class=\"dataframe\">\n",
              "  <thead>\n",
              "    <tr style=\"text-align: right;\">\n",
              "      <th></th>\n",
              "      <th>0</th>\n",
              "      <th>1</th>\n",
              "      <th>2</th>\n",
              "      <th>3</th>\n",
              "      <th>4</th>\n",
              "      <th>5</th>\n",
              "      <th>6</th>\n",
              "      <th>7</th>\n",
              "      <th>8</th>\n",
              "      <th>9</th>\n",
              "      <th>...</th>\n",
              "      <th>15</th>\n",
              "      <th>16</th>\n",
              "      <th>17</th>\n",
              "      <th>18</th>\n",
              "      <th>19</th>\n",
              "      <th>20</th>\n",
              "      <th>21</th>\n",
              "      <th>22</th>\n",
              "      <th>23</th>\n",
              "      <th>24</th>\n",
              "    </tr>\n",
              "  </thead>\n",
              "  <tbody>\n",
              "    <tr>\n",
              "      <th>0</th>\n",
              "      <td>1</td>\n",
              "      <td>6</td>\n",
              "      <td>4</td>\n",
              "      <td>12</td>\n",
              "      <td>5</td>\n",
              "      <td>5</td>\n",
              "      <td>3</td>\n",
              "      <td>4</td>\n",
              "      <td>1</td>\n",
              "      <td>67</td>\n",
              "      <td>...</td>\n",
              "      <td>0</td>\n",
              "      <td>0</td>\n",
              "      <td>1</td>\n",
              "      <td>0</td>\n",
              "      <td>0</td>\n",
              "      <td>1</td>\n",
              "      <td>0</td>\n",
              "      <td>0</td>\n",
              "      <td>1</td>\n",
              "      <td>1</td>\n",
              "    </tr>\n",
              "    <tr>\n",
              "      <th>1</th>\n",
              "      <td>2</td>\n",
              "      <td>48</td>\n",
              "      <td>2</td>\n",
              "      <td>60</td>\n",
              "      <td>1</td>\n",
              "      <td>3</td>\n",
              "      <td>2</td>\n",
              "      <td>2</td>\n",
              "      <td>1</td>\n",
              "      <td>22</td>\n",
              "      <td>...</td>\n",
              "      <td>0</td>\n",
              "      <td>0</td>\n",
              "      <td>1</td>\n",
              "      <td>0</td>\n",
              "      <td>0</td>\n",
              "      <td>1</td>\n",
              "      <td>0</td>\n",
              "      <td>0</td>\n",
              "      <td>1</td>\n",
              "      <td>2</td>\n",
              "    </tr>\n",
              "    <tr>\n",
              "      <th>2</th>\n",
              "      <td>4</td>\n",
              "      <td>12</td>\n",
              "      <td>4</td>\n",
              "      <td>21</td>\n",
              "      <td>1</td>\n",
              "      <td>4</td>\n",
              "      <td>3</td>\n",
              "      <td>3</td>\n",
              "      <td>1</td>\n",
              "      <td>49</td>\n",
              "      <td>...</td>\n",
              "      <td>0</td>\n",
              "      <td>0</td>\n",
              "      <td>1</td>\n",
              "      <td>0</td>\n",
              "      <td>0</td>\n",
              "      <td>1</td>\n",
              "      <td>0</td>\n",
              "      <td>1</td>\n",
              "      <td>0</td>\n",
              "      <td>1</td>\n",
              "    </tr>\n",
              "    <tr>\n",
              "      <th>3</th>\n",
              "      <td>1</td>\n",
              "      <td>42</td>\n",
              "      <td>2</td>\n",
              "      <td>79</td>\n",
              "      <td>1</td>\n",
              "      <td>4</td>\n",
              "      <td>3</td>\n",
              "      <td>4</td>\n",
              "      <td>2</td>\n",
              "      <td>45</td>\n",
              "      <td>...</td>\n",
              "      <td>0</td>\n",
              "      <td>0</td>\n",
              "      <td>0</td>\n",
              "      <td>0</td>\n",
              "      <td>0</td>\n",
              "      <td>0</td>\n",
              "      <td>0</td>\n",
              "      <td>0</td>\n",
              "      <td>1</td>\n",
              "      <td>1</td>\n",
              "    </tr>\n",
              "    <tr>\n",
              "      <th>4</th>\n",
              "      <td>1</td>\n",
              "      <td>24</td>\n",
              "      <td>3</td>\n",
              "      <td>49</td>\n",
              "      <td>1</td>\n",
              "      <td>3</td>\n",
              "      <td>3</td>\n",
              "      <td>4</td>\n",
              "      <td>4</td>\n",
              "      <td>53</td>\n",
              "      <td>...</td>\n",
              "      <td>1</td>\n",
              "      <td>0</td>\n",
              "      <td>1</td>\n",
              "      <td>0</td>\n",
              "      <td>0</td>\n",
              "      <td>0</td>\n",
              "      <td>0</td>\n",
              "      <td>0</td>\n",
              "      <td>1</td>\n",
              "      <td>2</td>\n",
              "    </tr>\n",
              "  </tbody>\n",
              "</table>\n",
              "<p>5 rows × 25 columns</p>\n",
              "</div>"
            ]
          },
          "metadata": {},
          "execution_count": 185
        }
      ]
    },
    {
      "cell_type": "code",
      "source": [
        "print(original_df[24].unique())\n",
        "original_df.describe()\n"
      ],
      "metadata": {
        "colab": {
          "base_uri": "https://localhost:8080/",
          "height": 368
        },
        "id": "8bFTRy3I3ubv",
        "outputId": "2e08207a-6537-4436-fe56-101320430729"
      },
      "execution_count": 186,
      "outputs": [
        {
          "output_type": "stream",
          "name": "stdout",
          "text": [
            "[1 2]\n"
          ]
        },
        {
          "output_type": "execute_result",
          "data": {
            "text/plain": [
              "               0          1           2           3           4          5   \\\n",
              "count  800.000000  800.00000  800.000000  800.000000  800.000000  800.00000   \n",
              "mean     2.582500   20.65125    2.547500   31.908750    2.106250    3.39750   \n",
              "std      1.242023   12.15635    1.084765   27.352617    1.567812    1.20054   \n",
              "min      1.000000    4.00000    0.000000    2.000000    1.000000    1.00000   \n",
              "25%      1.000000   12.00000    2.000000   13.000000    1.000000    3.00000   \n",
              "50%      2.000000   18.00000    2.000000   23.000000    1.000000    3.00000   \n",
              "75%      4.000000   24.00000    4.000000   39.000000    3.000000    5.00000   \n",
              "max      4.000000   72.00000    4.000000  159.000000    5.000000    5.00000   \n",
              "\n",
              "               6           7          8           9   ...          15  \\\n",
              "count  800.000000  800.000000  800.00000  800.000000  ...  800.000000   \n",
              "mean     2.673750    2.841250    2.36625   35.406250  ...    0.230000   \n",
              "std      0.700303    1.106833    1.06114   11.470317  ...    0.421096   \n",
              "min      1.000000    1.000000    1.00000   19.000000  ...    0.000000   \n",
              "25%      2.000000    2.000000    1.00000   27.000000  ...    0.000000   \n",
              "50%      3.000000    3.000000    2.00000   33.000000  ...    0.000000   \n",
              "75%      3.000000    4.000000    3.00000   41.000000  ...    0.000000   \n",
              "max      4.000000    4.000000    4.00000   75.000000  ...    1.000000   \n",
              "\n",
              "               16          17          18          19         20          21  \\\n",
              "count  800.000000  800.000000  800.000000  800.000000  800.00000  800.000000   \n",
              "mean     0.101250    0.910000    0.037500    0.175000    0.71250    0.021250   \n",
              "std      0.301848    0.286361    0.190102    0.380205    0.45288    0.144307   \n",
              "min      0.000000    0.000000    0.000000    0.000000    0.00000    0.000000   \n",
              "25%      0.000000    1.000000    0.000000    0.000000    0.00000    0.000000   \n",
              "50%      0.000000    1.000000    0.000000    0.000000    1.00000    0.000000   \n",
              "75%      0.000000    1.000000    0.000000    0.000000    1.00000    0.000000   \n",
              "max      1.000000    1.000000    1.000000    1.000000    1.00000    1.000000   \n",
              "\n",
              "               22          23          24  \n",
              "count  800.000000  800.000000  800.000000  \n",
              "mean     0.201250    0.628750    1.298750  \n",
              "std      0.401185    0.483441    0.457996  \n",
              "min      0.000000    0.000000    1.000000  \n",
              "25%      0.000000    0.000000    1.000000  \n",
              "50%      0.000000    1.000000    1.000000  \n",
              "75%      0.000000    1.000000    2.000000  \n",
              "max      1.000000    1.000000    2.000000  \n",
              "\n",
              "[8 rows x 25 columns]"
            ],
            "text/html": [
              "<div>\n",
              "<style scoped>\n",
              "    .dataframe tbody tr th:only-of-type {\n",
              "        vertical-align: middle;\n",
              "    }\n",
              "\n",
              "    .dataframe tbody tr th {\n",
              "        vertical-align: top;\n",
              "    }\n",
              "\n",
              "    .dataframe thead th {\n",
              "        text-align: right;\n",
              "    }\n",
              "</style>\n",
              "<table border=\"1\" class=\"dataframe\">\n",
              "  <thead>\n",
              "    <tr style=\"text-align: right;\">\n",
              "      <th></th>\n",
              "      <th>0</th>\n",
              "      <th>1</th>\n",
              "      <th>2</th>\n",
              "      <th>3</th>\n",
              "      <th>4</th>\n",
              "      <th>5</th>\n",
              "      <th>6</th>\n",
              "      <th>7</th>\n",
              "      <th>8</th>\n",
              "      <th>9</th>\n",
              "      <th>...</th>\n",
              "      <th>15</th>\n",
              "      <th>16</th>\n",
              "      <th>17</th>\n",
              "      <th>18</th>\n",
              "      <th>19</th>\n",
              "      <th>20</th>\n",
              "      <th>21</th>\n",
              "      <th>22</th>\n",
              "      <th>23</th>\n",
              "      <th>24</th>\n",
              "    </tr>\n",
              "  </thead>\n",
              "  <tbody>\n",
              "    <tr>\n",
              "      <th>count</th>\n",
              "      <td>800.000000</td>\n",
              "      <td>800.00000</td>\n",
              "      <td>800.000000</td>\n",
              "      <td>800.000000</td>\n",
              "      <td>800.000000</td>\n",
              "      <td>800.00000</td>\n",
              "      <td>800.000000</td>\n",
              "      <td>800.000000</td>\n",
              "      <td>800.00000</td>\n",
              "      <td>800.000000</td>\n",
              "      <td>...</td>\n",
              "      <td>800.000000</td>\n",
              "      <td>800.000000</td>\n",
              "      <td>800.000000</td>\n",
              "      <td>800.000000</td>\n",
              "      <td>800.000000</td>\n",
              "      <td>800.00000</td>\n",
              "      <td>800.000000</td>\n",
              "      <td>800.000000</td>\n",
              "      <td>800.000000</td>\n",
              "      <td>800.000000</td>\n",
              "    </tr>\n",
              "    <tr>\n",
              "      <th>mean</th>\n",
              "      <td>2.582500</td>\n",
              "      <td>20.65125</td>\n",
              "      <td>2.547500</td>\n",
              "      <td>31.908750</td>\n",
              "      <td>2.106250</td>\n",
              "      <td>3.39750</td>\n",
              "      <td>2.673750</td>\n",
              "      <td>2.841250</td>\n",
              "      <td>2.36625</td>\n",
              "      <td>35.406250</td>\n",
              "      <td>...</td>\n",
              "      <td>0.230000</td>\n",
              "      <td>0.101250</td>\n",
              "      <td>0.910000</td>\n",
              "      <td>0.037500</td>\n",
              "      <td>0.175000</td>\n",
              "      <td>0.71250</td>\n",
              "      <td>0.021250</td>\n",
              "      <td>0.201250</td>\n",
              "      <td>0.628750</td>\n",
              "      <td>1.298750</td>\n",
              "    </tr>\n",
              "    <tr>\n",
              "      <th>std</th>\n",
              "      <td>1.242023</td>\n",
              "      <td>12.15635</td>\n",
              "      <td>1.084765</td>\n",
              "      <td>27.352617</td>\n",
              "      <td>1.567812</td>\n",
              "      <td>1.20054</td>\n",
              "      <td>0.700303</td>\n",
              "      <td>1.106833</td>\n",
              "      <td>1.06114</td>\n",
              "      <td>11.470317</td>\n",
              "      <td>...</td>\n",
              "      <td>0.421096</td>\n",
              "      <td>0.301848</td>\n",
              "      <td>0.286361</td>\n",
              "      <td>0.190102</td>\n",
              "      <td>0.380205</td>\n",
              "      <td>0.45288</td>\n",
              "      <td>0.144307</td>\n",
              "      <td>0.401185</td>\n",
              "      <td>0.483441</td>\n",
              "      <td>0.457996</td>\n",
              "    </tr>\n",
              "    <tr>\n",
              "      <th>min</th>\n",
              "      <td>1.000000</td>\n",
              "      <td>4.00000</td>\n",
              "      <td>0.000000</td>\n",
              "      <td>2.000000</td>\n",
              "      <td>1.000000</td>\n",
              "      <td>1.00000</td>\n",
              "      <td>1.000000</td>\n",
              "      <td>1.000000</td>\n",
              "      <td>1.00000</td>\n",
              "      <td>19.000000</td>\n",
              "      <td>...</td>\n",
              "      <td>0.000000</td>\n",
              "      <td>0.000000</td>\n",
              "      <td>0.000000</td>\n",
              "      <td>0.000000</td>\n",
              "      <td>0.000000</td>\n",
              "      <td>0.00000</td>\n",
              "      <td>0.000000</td>\n",
              "      <td>0.000000</td>\n",
              "      <td>0.000000</td>\n",
              "      <td>1.000000</td>\n",
              "    </tr>\n",
              "    <tr>\n",
              "      <th>25%</th>\n",
              "      <td>1.000000</td>\n",
              "      <td>12.00000</td>\n",
              "      <td>2.000000</td>\n",
              "      <td>13.000000</td>\n",
              "      <td>1.000000</td>\n",
              "      <td>3.00000</td>\n",
              "      <td>2.000000</td>\n",
              "      <td>2.000000</td>\n",
              "      <td>1.00000</td>\n",
              "      <td>27.000000</td>\n",
              "      <td>...</td>\n",
              "      <td>0.000000</td>\n",
              "      <td>0.000000</td>\n",
              "      <td>1.000000</td>\n",
              "      <td>0.000000</td>\n",
              "      <td>0.000000</td>\n",
              "      <td>0.00000</td>\n",
              "      <td>0.000000</td>\n",
              "      <td>0.000000</td>\n",
              "      <td>0.000000</td>\n",
              "      <td>1.000000</td>\n",
              "    </tr>\n",
              "    <tr>\n",
              "      <th>50%</th>\n",
              "      <td>2.000000</td>\n",
              "      <td>18.00000</td>\n",
              "      <td>2.000000</td>\n",
              "      <td>23.000000</td>\n",
              "      <td>1.000000</td>\n",
              "      <td>3.00000</td>\n",
              "      <td>3.000000</td>\n",
              "      <td>3.000000</td>\n",
              "      <td>2.00000</td>\n",
              "      <td>33.000000</td>\n",
              "      <td>...</td>\n",
              "      <td>0.000000</td>\n",
              "      <td>0.000000</td>\n",
              "      <td>1.000000</td>\n",
              "      <td>0.000000</td>\n",
              "      <td>0.000000</td>\n",
              "      <td>1.00000</td>\n",
              "      <td>0.000000</td>\n",
              "      <td>0.000000</td>\n",
              "      <td>1.000000</td>\n",
              "      <td>1.000000</td>\n",
              "    </tr>\n",
              "    <tr>\n",
              "      <th>75%</th>\n",
              "      <td>4.000000</td>\n",
              "      <td>24.00000</td>\n",
              "      <td>4.000000</td>\n",
              "      <td>39.000000</td>\n",
              "      <td>3.000000</td>\n",
              "      <td>5.00000</td>\n",
              "      <td>3.000000</td>\n",
              "      <td>4.000000</td>\n",
              "      <td>3.00000</td>\n",
              "      <td>41.000000</td>\n",
              "      <td>...</td>\n",
              "      <td>0.000000</td>\n",
              "      <td>0.000000</td>\n",
              "      <td>1.000000</td>\n",
              "      <td>0.000000</td>\n",
              "      <td>0.000000</td>\n",
              "      <td>1.00000</td>\n",
              "      <td>0.000000</td>\n",
              "      <td>0.000000</td>\n",
              "      <td>1.000000</td>\n",
              "      <td>2.000000</td>\n",
              "    </tr>\n",
              "    <tr>\n",
              "      <th>max</th>\n",
              "      <td>4.000000</td>\n",
              "      <td>72.00000</td>\n",
              "      <td>4.000000</td>\n",
              "      <td>159.000000</td>\n",
              "      <td>5.000000</td>\n",
              "      <td>5.00000</td>\n",
              "      <td>4.000000</td>\n",
              "      <td>4.000000</td>\n",
              "      <td>4.00000</td>\n",
              "      <td>75.000000</td>\n",
              "      <td>...</td>\n",
              "      <td>1.000000</td>\n",
              "      <td>1.000000</td>\n",
              "      <td>1.000000</td>\n",
              "      <td>1.000000</td>\n",
              "      <td>1.000000</td>\n",
              "      <td>1.00000</td>\n",
              "      <td>1.000000</td>\n",
              "      <td>1.000000</td>\n",
              "      <td>1.000000</td>\n",
              "      <td>2.000000</td>\n",
              "    </tr>\n",
              "  </tbody>\n",
              "</table>\n",
              "<p>8 rows × 25 columns</p>\n",
              "</div>"
            ]
          },
          "metadata": {},
          "execution_count": 186
        }
      ]
    },
    {
      "cell_type": "code",
      "source": [
        "X_train, X_test, y_train, y_test = train_test_split(original_df.iloc[:,:-1],\n",
        "                                                    original_df.iloc[:,-1],\n",
        "                                                    train_size=0.6,\n",
        "                                                    shuffle=True,\n",
        "                                                    random_state=42)\n",
        "# Building the linear model\n",
        "svm_clf = SVC(kernel='linear')\n",
        "svm_clf.fit(X_train, y_train )"
      ],
      "metadata": {
        "colab": {
          "base_uri": "https://localhost:8080/"
        },
        "id": "L0ACPAGI3uk6",
        "outputId": "77e5305d-cebb-4f62-f89c-ffe05fa6ca5b"
      },
      "execution_count": 187,
      "outputs": [
        {
          "output_type": "execute_result",
          "data": {
            "text/plain": [
              "SVC(kernel='linear')"
            ]
          },
          "metadata": {},
          "execution_count": 187
        }
      ]
    },
    {
      "cell_type": "code",
      "source": [
        "plot_confusion_matrix(svm_clf,\n",
        "                      X_test,\n",
        "                      y_test,\n",
        "                      values_format='d')"
      ],
      "metadata": {
        "colab": {
          "base_uri": "https://localhost:8080/",
          "height": 353
        },
        "id": "_v4WEWju5Dt2",
        "outputId": "a90e3e40-abde-4c46-a426-5cfe9f72387d"
      },
      "execution_count": 188,
      "outputs": [
        {
          "output_type": "stream",
          "name": "stderr",
          "text": [
            "/home/mohamed-abdelaziz/miniconda3/envs/colab/lib/python3.7/site-packages/sklearn/utils/deprecation.py:87: FutureWarning: Function plot_confusion_matrix is deprecated; Function `plot_confusion_matrix` is deprecated in 1.0 and will be removed in 1.2. Use one of the class methods: ConfusionMatrixDisplay.from_predictions or ConfusionMatrixDisplay.from_estimator.\n",
            "  warnings.warn(msg, category=FutureWarning)\n"
          ]
        },
        {
          "output_type": "execute_result",
          "data": {
            "text/plain": [
              "<sklearn.metrics._plot.confusion_matrix.ConfusionMatrixDisplay at 0x7f691a40cfd0>"
            ]
          },
          "metadata": {},
          "execution_count": 188
        },
        {
          "output_type": "display_data",
          "data": {
            "text/plain": [
              "<Figure size 432x288 with 2 Axes>"
            ],
            "image/png": "[encoded data removed]"
          },
          "metadata": {
            "needs_background": "light"
          }
        }
      ]
    },
    {
      "cell_type": "code",
      "source": [
        "def accuracy(model, data):\n",
        "    accuracy_dict = defaultdict()\n",
        "\n",
        "    for i in range(10):\n",
        "        X_train, X_test, y_train, y_test = train_test_split(original_df.iloc[:,:-1],\n",
        "                                                            original_df.iloc[:,-1],\n",
        "                                                            train_size=0.6,\n",
        "                                                            shuffle=True,\n",
        "                                                            random_state=42)\n",
        "        model.fit(X_train, y_train)\n",
        "        y_pred = model.predict(X_test)\n",
        "        acc = accuracy_score(y_test, y_pred)\n",
        "\n",
        "        accuracy_dict[i] = acc\n",
        "\n",
        "        acc = np.mean(list(accuracy_dict.values()))\n",
        "        return acc"
      ],
      "metadata": {
        "id": "gCFjYIIZ3ul_"
      },
      "execution_count": 189,
      "outputs": []
    },
    {
      "cell_type": "code",
      "source": [
        "score = accuracy(svm_clf, original_df)\n",
        "print('Accuracy', score )\n"
      ],
      "metadata": {
        "colab": {
          "base_uri": "https://localhost:8080/"
        },
        "id": "8Vq3sZ__3unS",
        "outputId": "d590badc-7be0-453c-e4ef-2ff90c150389"
      },
      "execution_count": 191,
      "outputs": [
        {
          "output_type": "stream",
          "name": "stdout",
          "text": [
            "Accuracy 0.790625\n"
          ]
        }
      ]
    },
    {
      "cell_type": "markdown",
      "source": [
        "# Normalization"
      ],
      "metadata": {
        "id": "_MnK9E7d3upp"
      }
    },
    {
      "cell_type": "code",
      "source": [
        "# Scaling each feature by substracting it form its mean and divide it by its std.\n",
        "scaler = StandardScaler()\n",
        "scaler.fit(original_df.iloc[:,:-1])\n",
        "df2 =scaler.transform(original_df.iloc[:,:-1])"
      ],
      "metadata": {
        "id": "tMo3A0Ca3vA0"
      },
      "execution_count": 193,
      "outputs": []
    },
    {
      "cell_type": "code",
      "source": [
        "df2 = pd.concat([pd.DataFrame(df2), original_df.iloc[:,-1]], axis=1)"
      ],
      "metadata": {
        "colab": {
          "base_uri": "https://localhost:8080/",
          "height": 256
        },
        "id": "fAZy22I73vBx",
        "outputId": "a9af7752-1cd5-4633-fa89-63f8f277cbbe"
      },
      "execution_count": 194,
      "outputs": [
        {
          "output_type": "execute_result",
          "data": {
            "text/plain": [
              "         0         1         2         3         4         5         6   \\\n",
              "0 -1.274928 -1.205988  1.339838 -0.728311  1.846880  1.335651  0.466161   \n",
              "1 -0.469286  2.251158 -0.505033  1.027647 -0.706043 -0.331308 -0.962686   \n",
              "2  1.141997 -0.712110  1.339838 -0.399069 -0.706043  0.502172  0.466161   \n",
              "3 -1.274928  1.757280 -0.505033  1.722713 -0.706043  0.502172  0.466161   \n",
              "4 -1.274928  0.275646  0.417402  0.625240 -0.706043 -0.331308  0.466161   \n",
              "\n",
              "         7         8         9   ...        15        16        17        18  \\\n",
              "0  1.047561 -1.288336  2.756115  ... -0.546536 -0.335643  0.314485 -0.197386   \n",
              "1 -0.760527 -1.288336 -1.169509  ... -0.546536 -0.335643  0.314485 -0.197386   \n",
              "2  0.143517 -1.288336  1.185866  ... -0.546536 -0.335643  0.314485 -0.197386   \n",
              "3  1.047561 -0.345364  0.836921  ... -0.546536 -0.335643 -3.179797 -0.197386   \n",
              "4  1.047561  1.540581  1.534810  ...  1.829707 -0.335643  0.314485 -0.197386   \n",
              "\n",
              "         19        20        21        22        23  24  \n",
              "0 -0.460566  0.635223 -0.147348 -0.501952  0.768412   1  \n",
              "1 -0.460566  0.635223 -0.147348 -0.501952  0.768412   2  \n",
              "2 -0.460566  0.635223 -0.147348  1.992221 -1.301385   1  \n",
              "3 -0.460566 -1.574249 -0.147348 -0.501952  0.768412   1  \n",
              "4 -0.460566 -1.574249 -0.147348 -0.501952  0.768412   2  \n",
              "\n",
              "[5 rows x 25 columns]"
            ],
            "text/html": [
              "<div>\n",
              "<style scoped>\n",
              "    .dataframe tbody tr th:only-of-type {\n",
              "        vertical-align: middle;\n",
              "    }\n",
              "\n",
              "    .dataframe tbody tr th {\n",
              "        vertical-align: top;\n",
              "    }\n",
              "\n",
              "    .dataframe thead th {\n",
              "        text-align: right;\n",
              "    }\n",
              "</style>\n",
              "<table border=\"1\" class=\"dataframe\">\n",
              "  <thead>\n",
              "    <tr style=\"text-align: right;\">\n",
              "      <th></th>\n",
              "      <th>0</th>\n",
              "      <th>1</th>\n",
              "      <th>2</th>\n",
              "      <th>3</th>\n",
              "      <th>4</th>\n",
              "      <th>5</th>\n",
              "      <th>6</th>\n",
              "      <th>7</th>\n",
              "      <th>8</th>\n",
              "      <th>9</th>\n",
              "      <th>...</th>\n",
              "      <th>15</th>\n",
              "      <th>16</th>\n",
              "      <th>17</th>\n",
              "      <th>18</th>\n",
              "      <th>19</th>\n",
              "      <th>20</th>\n",
              "      <th>21</th>\n",
              "      <th>22</th>\n",
              "      <th>23</th>\n",
              "      <th>24</th>\n",
              "    </tr>\n",
              "  </thead>\n",
              "  <tbody>\n",
              "    <tr>\n",
              "      <th>0</th>\n",
              "      <td>-1.274928</td>\n",
              "      <td>-1.205988</td>\n",
              "      <td>1.339838</td>\n",
              "      <td>-0.728311</td>\n",
              "      <td>1.846880</td>\n",
              "      <td>1.335651</td>\n",
              "      <td>0.466161</td>\n",
              "      <td>1.047561</td>\n",
              "      <td>-1.288336</td>\n",
              "      <td>2.756115</td>\n",
              "      <td>...</td>\n",
              "      <td>-0.546536</td>\n",
              "      <td>-0.335643</td>\n",
              "      <td>0.314485</td>\n",
              "      <td>-0.197386</td>\n",
              "      <td>-0.460566</td>\n",
              "      <td>0.635223</td>\n",
              "      <td>-0.147348</td>\n",
              "      <td>-0.501952</td>\n",
              "      <td>0.768412</td>\n",
              "      <td>1</td>\n",
              "    </tr>\n",
              "    <tr>\n",
              "      <th>1</th>\n",
              "      <td>-0.469286</td>\n",
              "      <td>2.251158</td>\n",
              "      <td>-0.505033</td>\n",
              "      <td>1.027647</td>\n",
              "      <td>-0.706043</td>\n",
              "      <td>-0.331308</td>\n",
              "      <td>-0.962686</td>\n",
              "      <td>-0.760527</td>\n",
              "      <td>-1.288336</td>\n",
              "      <td>-1.169509</td>\n",
              "      <td>...</td>\n",
              "      <td>-0.546536</td>\n",
              "      <td>-0.335643</td>\n",
              "      <td>0.314485</td>\n",
              "      <td>-0.197386</td>\n",
              "      <td>-0.460566</td>\n",
              "      <td>0.635223</td>\n",
              "      <td>-0.147348</td>\n",
              "      <td>-0.501952</td>\n",
              "      <td>0.768412</td>\n",
              "      <td>2</td>\n",
              "    </tr>\n",
              "    <tr>\n",
              "      <th>2</th>\n",
              "      <td>1.141997</td>\n",
              "      <td>-0.712110</td>\n",
              "      <td>1.339838</td>\n",
              "      <td>-0.399069</td>\n",
              "      <td>-0.706043</td>\n",
              "      <td>0.502172</td>\n",
              "      <td>0.466161</td>\n",
              "      <td>0.143517</td>\n",
              "      <td>-1.288336</td>\n",
              "      <td>1.185866</td>\n",
              "      <td>...</td>\n",
              "      <td>-0.546536</td>\n",
              "      <td>-0.335643</td>\n",
              "      <td>0.314485</td>\n",
              "      <td>-0.197386</td>\n",
              "      <td>-0.460566</td>\n",
              "      <td>0.635223</td>\n",
              "      <td>-0.147348</td>\n",
              "      <td>1.992221</td>\n",
              "      <td>-1.301385</td>\n",
              "      <td>1</td>\n",
              "    </tr>\n",
              "    <tr>\n",
              "      <th>3</th>\n",
              "      <td>-1.274928</td>\n",
              "      <td>1.757280</td>\n",
              "      <td>-0.505033</td>\n",
              "      <td>1.722713</td>\n",
              "      <td>-0.706043</td>\n",
              "      <td>0.502172</td>\n",
              "      <td>0.466161</td>\n",
              "      <td>1.047561</td>\n",
              "      <td>-0.345364</td>\n",
              "      <td>0.836921</td>\n",
              "      <td>...</td>\n",
              "      <td>-0.546536</td>\n",
              "      <td>-0.335643</td>\n",
              "      <td>-3.179797</td>\n",
              "      <td>-0.197386</td>\n",
              "      <td>-0.460566</td>\n",
              "      <td>-1.574249</td>\n",
              "      <td>-0.147348</td>\n",
              "      <td>-0.501952</td>\n",
              "      <td>0.768412</td>\n",
              "      <td>1</td>\n",
              "    </tr>\n",
              "    <tr>\n",
              "      <th>4</th>\n",
              "      <td>-1.274928</td>\n",
              "      <td>0.275646</td>\n",
              "      <td>0.417402</td>\n",
              "      <td>0.625240</td>\n",
              "      <td>-0.706043</td>\n",
              "      <td>-0.331308</td>\n",
              "      <td>0.466161</td>\n",
              "      <td>1.047561</td>\n",
              "      <td>1.540581</td>\n",
              "      <td>1.534810</td>\n",
              "      <td>...</td>\n",
              "      <td>1.829707</td>\n",
              "      <td>-0.335643</td>\n",
              "      <td>0.314485</td>\n",
              "      <td>-0.197386</td>\n",
              "      <td>-0.460566</td>\n",
              "      <td>-1.574249</td>\n",
              "      <td>-0.147348</td>\n",
              "      <td>-0.501952</td>\n",
              "      <td>0.768412</td>\n",
              "      <td>2</td>\n",
              "    </tr>\n",
              "  </tbody>\n",
              "</table>\n",
              "<p>5 rows × 25 columns</p>\n",
              "</div>"
            ]
          },
          "metadata": {},
          "execution_count": 194
        }
      ]
    },
    {
      "cell_type": "code",
      "source": [
        "acc = accuracy(svm_clf, df2)\n",
        "print('new accuracy', acc)\n",
        "#  no much improvement"
      ],
      "metadata": {
        "colab": {
          "base_uri": "https://localhost:8080/"
        },
        "id": "-OCaNTUy3vC1",
        "outputId": "007b636e-31bd-4019-d0bd-16862a47f808"
      },
      "execution_count": 195,
      "outputs": [
        {
          "output_type": "execute_result",
          "data": {
            "text/plain": [
              "0.790625"
            ]
          },
          "metadata": {},
          "execution_count": 195
        }
      ]
    },
    {
      "cell_type": "code",
      "source": [
        "param_grid = [\n",
        "  {'C': [0.5, 1, 10, 100],\n",
        "   'gamma':['scale', 1, 0.1, .01, .001]},\n",
        "]\n",
        "\n",
        "# estimator__C\n",
        "optimal_params  = GridSearchCV(\n",
        "    SVC(),\n",
        "    param_grid,\n",
        "    cv=5,\n",
        "    scoring='accuracy',\n",
        "    verbose=0\n",
        "  )\n",
        "\n",
        "optimal_params.fit(X_train, y_train)\n",
        "print(optimal_params.best_params_)\n",
        "\n"
      ],
      "metadata": {
        "colab": {
          "base_uri": "https://localhost:8080/"
        },
        "id": "GynQiSz_9u_K",
        "outputId": "0100a000-0dc9-4670-9e4a-77a840bb32b3"
      },
      "execution_count": 211,
      "outputs": [
        {
          "output_type": "stream",
          "name": "stdout",
          "text": [
            "{'C': 1000, 'gamma': 0.0001}\n"
          ]
        }
      ]
    },
    {
      "cell_type": "code",
      "source": [
        "svm_clf = SVC(kernel='linear', C= 1000, gamma=.0001)\n",
        "svm_clf.fit(X_train, y_train )"
      ],
      "metadata": {
        "colab": {
          "base_uri": "https://localhost:8080/"
        },
        "id": "n08BYfo9_B_O",
        "outputId": "c71bb99e-14cd-4c35-9060-45edf03729a3"
      },
      "execution_count": 212,
      "outputs": [
        {
          "output_type": "execute_result",
          "data": {
            "text/plain": [
              "SVC(C=1000, gamma=0.0001, kernel='linear')"
            ]
          },
          "metadata": {},
          "execution_count": 212
        }
      ]
    },
    {
      "cell_type": "code",
      "source": [
        "plot_confusion_matrix(svm_clf,\n",
        "                      X_test,\n",
        "                      y_test,\n",
        "                      values_format='d')"
      ],
      "metadata": {
        "colab": {
          "base_uri": "https://localhost:8080/",
          "height": 353
        },
        "id": "RktExQo6A8kw",
        "outputId": "7234ef0d-6168-453f-9d58-6daa55eae381"
      },
      "execution_count": 213,
      "outputs": [
        {
          "output_type": "stream",
          "name": "stderr",
          "text": [
            "/home/mohamed-abdelaziz/miniconda3/envs/colab/lib/python3.7/site-packages/sklearn/utils/deprecation.py:87: FutureWarning: Function plot_confusion_matrix is deprecated; Function `plot_confusion_matrix` is deprecated in 1.0 and will be removed in 1.2. Use one of the class methods: ConfusionMatrixDisplay.from_predictions or ConfusionMatrixDisplay.from_estimator.\n",
            "  warnings.warn(msg, category=FutureWarning)\n"
          ]
        },
        {
          "output_type": "execute_result",
          "data": {
            "text/plain": [
              "<sklearn.metrics._plot.confusion_matrix.ConfusionMatrixDisplay at 0x7f69187c0150>"
            ]
          },
          "metadata": {},
          "execution_count": 213
        },
        {
          "output_type": "display_data",
          "data": {
            "text/plain": [
              "<Figure size 432x288 with 2 Axes>"
            ],
            "image/png": "[encoded data removed]"
          },
          "metadata": {
            "needs_background": "light"
          }
        }
      ]
    },
    {
      "cell_type": "code",
      "source": [
        "score = accuracy(svm_clf, original_df)\n",
        "print('Accuracy', score )"
      ],
      "metadata": {
        "id": "jGCz8XLXBQ-R"
      },
      "execution_count": null,
      "outputs": []
    },
    {
      "cell_type": "code",
      "source": [
        ""
      ],
      "metadata": {
        "id": "hzCw_Sx-CG8F"
      },
      "execution_count": null,
      "outputs": []
    }
  ]
}