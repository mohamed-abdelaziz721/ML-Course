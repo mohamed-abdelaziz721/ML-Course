{
  "cells": [
    {
      "cell_type": "markdown",
      "metadata": {
        "id": "2IFaSkjzvWhG"
      },
      "source": [
        "# SVM \n",
        "## From scratch - linear svm - fit - predict - iris dataset.\n",
        "\n",
        "The SVM (Support Vector Machine) is a supervised machine learning algorithm typically used for binary classification problems. It’s trained by feeding a dataset with labeled examples (xᵢ, yᵢ).\n",
        "\n",
        "Using this algorithm helps in finding a hyperplane (or decision boundary) which have the following properties:\n",
        "It creates separation between examples of two classes with a maximum margin\n",
        "Its equation $(w.x + b = 0)$ yields a value $≥ 1$ for examples from +ve class and $≤-1$ for examples from -ve class\n",
        "\n",
        "**To find this hyperplane:** We should get the optimal values `w` (weights) and `b` (intercept) which define this hyperplane. The optimal values are found by minimizing a cost function."
      ]
    },
    {
      "cell_type": "code",
      "execution_count": 150,
      "metadata": {
        "id": "8GQaowH2b0ps"
      },
      "outputs": [],
      "source": [
        "import numpy as np  \n",
        "import pandas as pd  \n",
        "import statsmodels.api as sm  \n",
        "from sklearn.preprocessing import MinMaxScaler  \n",
        "from sklearn.model_selection import train_test_split as tts\n",
        "from sklearn.metrics import accuracy_score, recall_score, average_precision_score\n",
        "from sklearn.utils import shuffle\n"
      ]
    },
    {
      "cell_type": "code",
      "execution_count": 151,
      "metadata": {
        "colab": {
          "base_uri": "https://localhost:8080/",
          "height": 224
        },
        "id": "Hfrlf78QxiyM",
        "outputId": "89bc5ee0-071a-4615-b237-f45db96438e5"
      },
      "outputs": [
        {
          "name": "stdout",
          "output_type": "stream",
          "text": [
            "['Iris-setosa' 'Iris-versicolor' 'Iris-virginica']\n"
          ]
        },
        {
          "data": {
            "text/html": [
              "<div>\n",
              "<style scoped>\n",
              "    .dataframe tbody tr th:only-of-type {\n",
              "        vertical-align: middle;\n",
              "    }\n",
              "\n",
              "    .dataframe tbody tr th {\n",
              "        vertical-align: top;\n",
              "    }\n",
              "\n",
              "    .dataframe thead th {\n",
              "        text-align: right;\n",
              "    }\n",
              "</style>\n",
              "<table border=\"1\" class=\"dataframe\">\n",
              "  <thead>\n",
              "    <tr style=\"text-align: right;\">\n",
              "      <th></th>\n",
              "      <th>sepal_length</th>\n",
              "      <th>sepal_width</th>\n",
              "      <th>petal_length</th>\n",
              "      <th>petal_width</th>\n",
              "      <th>species</th>\n",
              "    </tr>\n",
              "  </thead>\n",
              "  <tbody>\n",
              "    <tr>\n",
              "      <th>0</th>\n",
              "      <td>5.1</td>\n",
              "      <td>3.5</td>\n",
              "      <td>1.4</td>\n",
              "      <td>0.2</td>\n",
              "      <td>Iris-setosa</td>\n",
              "    </tr>\n",
              "    <tr>\n",
              "      <th>1</th>\n",
              "      <td>4.9</td>\n",
              "      <td>3.0</td>\n",
              "      <td>1.4</td>\n",
              "      <td>0.2</td>\n",
              "      <td>Iris-setosa</td>\n",
              "    </tr>\n",
              "    <tr>\n",
              "      <th>2</th>\n",
              "      <td>4.7</td>\n",
              "      <td>3.2</td>\n",
              "      <td>1.3</td>\n",
              "      <td>0.2</td>\n",
              "      <td>Iris-setosa</td>\n",
              "    </tr>\n",
              "    <tr>\n",
              "      <th>3</th>\n",
              "      <td>4.6</td>\n",
              "      <td>3.1</td>\n",
              "      <td>1.5</td>\n",
              "      <td>0.2</td>\n",
              "      <td>Iris-setosa</td>\n",
              "    </tr>\n",
              "    <tr>\n",
              "      <th>4</th>\n",
              "      <td>5.0</td>\n",
              "      <td>3.6</td>\n",
              "      <td>1.4</td>\n",
              "      <td>0.2</td>\n",
              "      <td>Iris-setosa</td>\n",
              "    </tr>\n",
              "  </tbody>\n",
              "</table>\n",
              "</div>"
            ],
            "text/plain": [
              "   sepal_length  sepal_width  petal_length  petal_width      species\n",
              "0           5.1          3.5           1.4          0.2  Iris-setosa\n",
              "1           4.9          3.0           1.4          0.2  Iris-setosa\n",
              "2           4.7          3.2           1.3          0.2  Iris-setosa\n",
              "3           4.6          3.1           1.5          0.2  Iris-setosa\n",
              "4           5.0          3.6           1.4          0.2  Iris-setosa"
            ]
          },
          "execution_count": 151,
          "metadata": {},
          "output_type": "execute_result"
        }
      ],
      "source": [
        "data = pd.read_csv('./IRIS.csv')\n",
        "print(data['species'].unique())\n",
        "data.head()"
      ]
    },
    {
      "cell_type": "markdown",
      "metadata": {
        "id": "4mnICQ8T6VP1"
      },
      "source": [
        "# Cost Function\n",
        "Our objective is to find a hyperplane that separates +ve and -ve examples with the largest margin while keeping the misclassification as low as possible\n",
        "\n",
        "$$\n",
        "J(w) = C \\sum_{i = 1}^{m}[y^(i) cost_1 (θ^T x^i) + (1-y^(i)) cost_0 (θ^T x^i) ] + \\frac{1}{2} \\sum_{i = 1}^{n} (θ_i)^2\n",
        "$$\n",
        "\n",
        "$$Or$$ \n",
        "\n",
        "$$\n",
        "J(w) = \\frac{1}{2} ||w||^2 + C[\\frac{1}{m} \\sum_{i}^{m} max(0,1-y_i * (w . x_i +b)) ] \n",
        "$$\n",
        "\n",
        "where the functions $cost_1$ and $cost_0$ refer to the cost for an example where y=1 and the cost for an example where y=0 and $C = \\frac{1}{λ}$ \n",
        "\n",
        "For SVMs, cost is determined by kernel (similarity) functions.\n",
        "\n",
        "- `Large C` or `Small λ`: Low bias , high variance (narrow margin).\n",
        "\n",
        "- `Small C` or `Large λ`: high bias, low variance (wider margin)."
      ]
    },
    {
      "cell_type": "code",
      "execution_count": 152,
      "metadata": {
        "id": "NokcRhDP7Y__"
      },
      "outputs": [],
      "source": [
        "def compute_cost(W, X, Y):\n",
        "    # calculate hinge loss\n",
        "    N = X.shape[0]\n",
        "    distances = 1 - Y * (np.dot(X, W))\n",
        "    distances[distances < 0] = 0  # equivalent to max(0, distance)\n",
        "    hinge_loss = reg_strength * (np.sum(distances) / N)\n",
        "    \n",
        "    # calculate cost\n",
        "    cost = 1 / 2 * np.dot(W, W) + hinge_loss\n",
        "    return cost"
      ]
    },
    {
      "cell_type": "markdown",
      "metadata": {
        "id": "UVes4k087ad2"
      },
      "source": [
        "# The Gradient of Cost Function\n",
        "\n",
        "\n",
        "$$\n",
        "J(w) = \\frac{1}{N} \\sum_{i}^{n} [\\frac{1}{2} ||w||^2 + C[ max(0,1-y_i * (w . x_i +b)) ] \n",
        "$$\n",
        "\n",
        "\\begin{align}\n",
        "    \\text{$ \\nabla_{w} $}J(w) = \\left\\{\n",
        "    \\begin{array}{cl}\n",
        "    w & max(0,1-y_i * (w . x_i +b)) = 0 \\\\\n",
        "    w - C y_i x_i & otherwise.\n",
        "    \\end{array}\n",
        "    \\right.\n",
        "\\end{align}\n",
        "\n",
        "To find the minimum of J(w), we have to:\n",
        "\n",
        "- Minimize $ ∣w∣∣^2$ which maximizes `margin` ($2 / ∣∣w∣∣$)\n",
        "- Minimize the `sum of hinge loss` which minimizes `misclassifications`.\n"
      ]
    },
    {
      "cell_type": "code",
      "execution_count": 153,
      "metadata": {
        "id": "z6Ykh6QX7Yuc"
      },
      "outputs": [],
      "source": [
        "# work for vanilla and mini-batch gradient descent as well\n",
        "def calculate_cost_gradient(W, X_batch, Y_batch):\n",
        "    # if only one example is passed (eg. in case of fit)\n",
        "    # if type(Y_batch) == np.float64:\n",
        "    Y_batch = np.array([Y_batch])\n",
        "    X_batch = np.array([X_batch])\n",
        "    distance = 1 - (Y_batch * np.dot(X_batch, W))\n",
        "    dw = np.zeros(len(W))\n",
        "\n",
        "    for ind, d in enumerate(distance):\n",
        "        if max(0, d) == 0:\n",
        "            di = W\n",
        "        else:\n",
        "            di = W - (reg_strength * Y_batch[ind] * X_batch[ind])\n",
        "        dw += di\n",
        "    dw = dw/len(Y_batch)  # average\n",
        "    return dw"
      ]
    },
    {
      "cell_type": "markdown",
      "metadata": {
        "id": "4RCunILj7YI9"
      },
      "source": [
        "# Minimizing the Cost Function\n",
        "\n",
        "Gradient descent algorithm works as follows:\n",
        "- Find the gradient of cost function i.e. $ \\nabla J(w)$\n",
        "- Move opposite to the gradient by a certain rate i.e. $w := w — ∝ (\\nabla J(w))$\n",
        "> Because gradient is the direction of the fastest increase of the function. We need to move opposite to that direction to minimize our function J(w).\n",
        "- Repeat step 1–2 until convergence i.e we found w where J(w) is smallest\n",
        "\n",
        "\n",
        "**Stochastic Gradient Descent**\n",
        "- It is easier to fit into memory due to a single training sample being processed by the network.\n",
        "- It is computationally fast as only one sample is processed at a time.\n",
        "- For larger datasets it can converge faster as  it causes updates to the parameters more frequently."
      ]
    },
    {
      "cell_type": "code",
      "execution_count": 154,
      "metadata": {
        "id": "u6302wqjxi0r"
      },
      "outputs": [],
      "source": [
        "def fit(features, outputs):\n",
        "  '''\n",
        "  fit using Stochastic Gradient Descent with stopping criterion that will stop the training \n",
        "  when the current cost hasn’t decreased much as compared to the previous cost\n",
        "\n",
        "  '''\n",
        "  max_epochs = 5000\n",
        "  weights = np.zeros(features.shape[1])\n",
        "  nth = 0\n",
        "  prev_cost = float(\"inf\")\n",
        "  cost_threshold = 0.01   \n",
        "  # stochastic gradient descent\n",
        "  for epoch in range(1, max_epochs):\n",
        "      # shuffle to prevent repeating update cycles\n",
        "      X, Y = shuffle(features, outputs)\n",
        "      for ind, x in enumerate(X):\n",
        "          calculated_gradient = calculate_cost_gradient(weights, x, Y[ind])\n",
        "          weights = weights - (learning_rate * calculated_gradient)\n",
        "      # convergence check on 2^nth epoch\n",
        "      if epoch == 2 ** nth or epoch == max_epochs - 1:\n",
        "          cost = compute_cost(weights, features, outputs)\n",
        "          print(\"Epoch is:{} and Cost is: {}\".format(epoch, cost))\n",
        "          # stoppage criterion\n",
        "          if abs(prev_cost - cost) < cost_threshold * prev_cost:\n",
        "              return weights\n",
        "          prev_cost = cost\n",
        "          nth += 1\n",
        "  return weights"
      ]
    },
    {
      "cell_type": "markdown",
      "metadata": {
        "id": "POWe7yQWInvG"
      },
      "source": [
        "### set hyper-parameters and call init\n",
        "### hyper-parameters are normally tuned using `cross-validation` but following work good enough."
      ]
    },
    {
      "cell_type": "code",
      "execution_count": 155,
      "metadata": {
        "id": "YCibB5eWIn_b"
      },
      "outputs": [],
      "source": [
        "reg_strength = 1000 # regularization strength\n",
        "learning_rate = 0.001"
      ]
    },
    {
      "cell_type": "code",
      "execution_count": 156,
      "metadata": {
        "id": "yAuh3lhfeaCs"
      },
      "outputs": [],
      "source": [
        "def predict(X_test, W):\n",
        "    y_test_predicted = np.array([])\n",
        "    for i in range(X_test.shape[0]):\n",
        "        yp = np.sign(np.dot(W, X_test.to_numpy()[i])) #model\n",
        "        y_test_predicted = np.append(y_test_predicted, yp)\n",
        "\n",
        "    return y_test_predicted\n"
      ]
    },
    {
      "cell_type": "code",
      "execution_count": 157,
      "metadata": {
        "id": "ida2AWr3xiS9"
      },
      "outputs": [],
      "source": [
        "def SVM():\n",
        "    data = pd.read_csv('./IRIS.csv')\n",
        "    data = data.drop(data[data.species == 'Iris-versicolor'].index)\n",
        "    # SVM only accepts numerical values. \n",
        "    # Therefore, we will transform the categories M and B into\n",
        "    # values 1 and -1 (or -1 and 1), respectively.\n",
        "    species_map = {'Iris-setosa':1, 'Iris-virginica':-1}\n",
        "\n",
        "    # ['Iris-setosa' 'Iris-virginica']\n",
        "    data['species'] = data['species'].map(species_map)\n",
        "\n",
        "    # # drop last column and unnecessary first column (id)\n",
        "    # data.drop(data[''], axis=1, inplace=True)\n",
        "    \n",
        "    # put features X & outputs Y in different DataFrames for convenience\n",
        "    Y = data.loc[:, 'species']  # all rows of 'species' \n",
        "    X = data.iloc[:, 1:]  # all rows of column 1 and ahead (features)\n",
        "    # normalize the features using MinMaxScalar from\n",
        "    # sklearn.preprocessing\n",
        "    X_normalized = MinMaxScaler().fit_transform(X.values)\n",
        "    X = pd.DataFrame(X_normalized)\n",
        "\n",
        "    # first insert 1 in every row for intercept b\n",
        "    X.insert(loc=len(X.columns), column='intercept', value=1)\n",
        "\n",
        "\n",
        "    # test_size is the portion of data that will go into test set\n",
        "    # random_state is the seed used by the random number generator\n",
        "    print(\"splitting dataset into train and test sets...\")\n",
        "    X_train, X_test, y_train, y_test = tts(X, Y, test_size=0.2, random_state=42)\n",
        "\n",
        "    # train the model\n",
        "    print(\"training started...\")\n",
        "    W = fit(X_train.to_numpy(), y_train.to_numpy())\n",
        "    print(\"training finished.\")\n",
        "    print(\"weights are: {}\".format(W))\n",
        "\n",
        "   \n",
        "    ## predict and test\n",
        "    y_test_predicted = predict(X_test, W)\n",
        "    print(\"accuracy on test dataset: {}\".format(accuracy_score(y_test.to_numpy(), y_test_predicted)))\n",
        "    print(\"recall on test dataset: {}\".format(recall_score(y_test.to_numpy(), y_test_predicted)))\n",
        "    print(\"precision on test dataset: {}\".format(average_precision_score(y_test.to_numpy(), y_test_predicted)))  \n",
        "  \n"
      ]
    },
    {
      "cell_type": "code",
      "execution_count": 158,
      "metadata": {
        "colab": {
          "base_uri": "https://localhost:8080/"
        },
        "id": "UoAxtmMjLZZi",
        "outputId": "d35a2832-b2b4-44c1-8920-38062aad8545"
      },
      "outputs": [
        {
          "name": "stdout",
          "output_type": "stream",
          "text": [
            "splitting dataset into train and test sets...\n",
            "training started...\n",
            "Epoch is:1 and Cost is: 3.2474285928935025\n",
            "Epoch is:2 and Cost is: 2.767054584625065\n",
            "Epoch is:4 and Cost is: 2.008972346378636\n",
            "Epoch is:8 and Cost is: 3.4103346980598266\n",
            "Epoch is:16 and Cost is: 2.7659440063877008\n",
            "Epoch is:32 and Cost is: 1.8945175700968993\n",
            "Epoch is:64 and Cost is: 2.21884434650167\n",
            "Epoch is:128 and Cost is: 4.190454056617619\n",
            "Epoch is:256 and Cost is: 2.5421082898542675\n",
            "Epoch is:512 and Cost is: 3.522516193943753\n",
            "Epoch is:1024 and Cost is: 3.2900572633145386\n",
            "Epoch is:2048 and Cost is: 1.9485632626442404\n",
            "Epoch is:4096 and Cost is: 2.342574319630657\n",
            "Epoch is:4999 and Cost is: 2.283512016580219\n",
            "training finished.\n",
            "weights are: [ 0.50993159 -0.90816452 -0.97364857  1.5919279   0.00224514]\n",
            "accuracy on test dataset: 1.0\n",
            "recall on test dataset: 1.0\n",
            "precision on test dataset: 1.0\n"
          ]
        }
      ],
      "source": [
        "SVM()   \n",
        "  "
      ]
    },
    {
      "cell_type": "markdown",
      "metadata": {
        "id": "unMX4zzspAqj"
      },
      "source": [
        "## plotting two features with the corresponding category show that this iris dataset is a good dataset for using SVM "
      ]
    },
    {
      "cell_type": "code",
      "execution_count": 159,
      "metadata": {
        "colab": {
          "base_uri": "https://localhost:8080/",
          "height": 268
        },
        "id": "VCCr_zHzLrFA",
        "outputId": "ec30c59e-2acf-46cc-a4dd-d9c70a966d2f"
      },
      "outputs": [
        {
          "data": {
            "image/png": "[encoded data removed]",
            "text/plain": [
              "<Figure size 432x288 with 1 Axes>"
            ]
          },
          "metadata": {
            "needs_background": "light"
          },
          "output_type": "display_data"
        }
      ],
      "source": [
        "data = data.drop(data[data.species == 'Iris-versicolor'].index)\n",
        "fig, ax = plt.subplots()\n",
        "\n",
        "colors = {'Iris-setosa':'red', 'Iris-virginica':'green'}\n",
        "\n",
        "ax.scatter(data['sepal_length'], data['sepal_width'], c=data['species'].map(colors))\n",
        "\n",
        "plt.show()\n"
      ]
    },
    {
      "cell_type": "code",
      "execution_count": null,
      "metadata": {
        "id": "Z1kJiYNsxxt_"
      },
      "outputs": [],
      "source": []
    }
  ],
  "metadata": {
    "colab": {
      "collapsed_sections": [
        "4mnICQ8T6VP1"
      ],
      "name": "SVM.ipynb",
      "provenance": []
    },
    "kernelspec": {
      "display_name": "Python 3",
      "name": "python3"
    },
    "language_info": {
      "name": "python"
    }
  },
  "nbformat": 4,
  "nbformat_minor": 0
}
